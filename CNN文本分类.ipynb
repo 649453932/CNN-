{
 "cells": [
  {
   "cell_type": "code",
   "execution_count": 2,
   "metadata": {},
   "outputs": [
    {
     "name": "stderr",
     "output_type": "stream",
     "text": [
      "D:\\Anaconda\\lib\\site-packages\\h5py\\__init__.py:34: FutureWarning: Conversion of the second argument of issubdtype from `float` to `np.floating` is deprecated. In future, it will be treated as `np.float64 == np.dtype(float).type`.\n",
      "  from ._conv import register_converters as _register_converters\n"
     ]
    }
   ],
   "source": [
    "import numpy as np\n",
    "import tensorflow as tf\n",
    "import re\n",
    "import tqdm"
   ]
  },
  {
   "cell_type": "markdown",
   "metadata": {},
   "source": [
    "## 加载数据"
   ]
  },
  {
   "cell_type": "code",
   "execution_count": 3,
   "metadata": {
    "collapsed": true
   },
   "outputs": [],
   "source": [
    "# 替换一些字符，所有字母变为小写\n",
    "def clean_str(string):\n",
    "    \"\"\"\n",
    "    Tokenization/string cleaning for all datasets except for SST.\n",
    "    Original taken from https://github.com/yoonkim/CNN_sentence/blob/master/process_data.py\n",
    "    \"\"\"\n",
    "    string = re.sub(r\"[^A-Za-z0-9(),!?\\'\\`]\", \" \", string)\n",
    "    string = re.sub(r\"\\'s\", \" \\'s\", string)\n",
    "    string = re.sub(r\"\\'ve\", \" \\'ve\", string)\n",
    "    string = re.sub(r\"n\\'t\", \" n\\'t\", string)\n",
    "    string = re.sub(r\"\\'re\", \" \\'re\", string)\n",
    "    string = re.sub(r\"\\'d\", \" \\'d\", string)\n",
    "    string = re.sub(r\"\\'ll\", \" \\'ll\", string)\n",
    "    string = re.sub(r\",\", \" , \", string)\n",
    "    string = re.sub(r\"!\", \" ! \", string)\n",
    "    string = re.sub(r\"\\(\", \" \\( \", string)\n",
    "    string = re.sub(r\"\\)\", \" \\) \", string)\n",
    "    string = re.sub(r\"\\?\", \" \\? \", string)\n",
    "    string = re.sub(r\"\\s{2,}\", \" \", string)\n",
    "    return string.strip().lower()"
   ]
  },
  {
   "cell_type": "code",
   "execution_count": 4,
   "metadata": {
    "collapsed": true
   },
   "outputs": [],
   "source": [
    "# 加载数据，并对数据做处理\n",
    "def load_data(pos_data, neg_data):\n",
    "    # 读入样本，将样本放入list中\n",
    "    pos = list(open(pos_data, \"r\", encoding='utf-8').readlines())\n",
    "    # strip()移除字符串头尾指定的字符（默认为空格或换行符）或字符序列\n",
    "    pos = [s.strip() for s in pos]\n",
    "    \n",
    "    neg = list(open(neg_data, \"r\", encoding='utf-8').readlines())\n",
    "    neg = [s.strip() for s in neg]\n",
    "\n",
    "    x = pos + neg\n",
    "    x = [clean_str(_) for _ in x]\n",
    "    x = np.array(x)\n",
    "    \n",
    "    pos_label = [[0] for _ in pos]\n",
    "    neg_label = [[1] for _ in neg]\n",
    "    \n",
    "    y = np.concatenate([pos_label, neg_label], axis=0) # axis=0 按行拼接\n",
    "    y = np.array(y)\n",
    "    # y = tf.concat(0, [pos_label, neg_label]) 也可以这样写 与上一行作用相同\n",
    "    return [x, y]"
   ]
  },
  {
   "cell_type": "code",
   "execution_count": 5,
   "metadata": {},
   "outputs": [
    {
     "name": "stdout",
     "output_type": "stream",
     "text": [
      "加载数据ing...\n",
      "评价平均长度: 20.38585631213656\n",
      "最长的评价长度：56\n",
      "最短的评价长度：1\n",
      "(10662,)\n",
      "(10662, 1)\n"
     ]
    }
   ],
   "source": [
    "print(\"加载数据ing...\")\n",
    "x, y = load_data(\"data/pos.txt\", \"data/neg.txt\")\n",
    "\n",
    "# 查看数据\n",
    "print(\"评价平均长度: {}\".format(np.mean([len(sentence.split()) for sentence in x])))\n",
    "max_document_length = max([len(_.split(\" \")) for _ in x]) # 找到最长的句子\n",
    "print(\"最长的评价长度：{}\".format(max_document_length))\n",
    "min_document_length = min([len(_.split(\" \")) for _ in x]) # 找到最长的句子\n",
    "print(\"最短的评价长度：{}\".format(min_document_length))\n",
    "\n",
    "print(x.shape)\n",
    "print(y.shape)"
   ]
  },
  {
   "cell_type": "code",
   "execution_count": 6,
   "metadata": {
    "collapsed": true
   },
   "outputs": [],
   "source": [
    "# 设置评价最大长度\n",
    "TEXT_MAX_SIZE = 30"
   ]
  },
  {
   "cell_type": "code",
   "execution_count": 7,
   "metadata": {
    "collapsed": true
   },
   "outputs": [],
   "source": [
    "# 建立词典 key为单词 value为出现次数\n",
    "voc_dic = {}\n",
    "for sentence in x:\n",
    "    words = sentence.split()\n",
    "    for word in words:\n",
    "        if word in voc_dic:\n",
    "            voc_dic[word] += 1\n",
    "        else:\n",
    "            voc_dic[word] = 1"
   ]
  },
  {
   "cell_type": "code",
   "execution_count": 8,
   "metadata": {},
   "outputs": [
    {
     "name": "stdout",
     "output_type": "stream",
     "text": [
      "词典长度：10112\n"
     ]
    }
   ],
   "source": [
    "# 构建词表\n",
    "vocab = [\"<pad>\", \"<unk>\"]\n",
    "\n",
    "# 词频大于1的才加入词表\n",
    "for k, v in voc_dic.items():\n",
    "    if v > 1:\n",
    "        vocab.append(k)\n",
    "\n",
    "print('词典长度：{}'.format(len(vocab)))"
   ]
  },
  {
   "cell_type": "code",
   "execution_count": 9,
   "metadata": {
    "collapsed": true
   },
   "outputs": [],
   "source": [
    "# 构建单词到索引的映射(每个数字代表一个单词或一个符号)\n",
    "word_to_index = {word: index for index, word in enumerate(vocab)}\n",
    "\n",
    "# 索引到单词的映射：\n",
    "index_to_word = {index: word for index, word in enumerate(vocab)}"
   ]
  },
  {
   "cell_type": "code",
   "execution_count": 10,
   "metadata": {
    "collapsed": true
   },
   "outputs": [],
   "source": [
    "# 定义一个将句子中每个word转换为index的函数：\n",
    "def sentence_to_index(sentence, max_size=TEXT_MAX_SIZE, word_map=word_to_index):\n",
    "    # unknown和pad的index\n",
    "    unk_id = word_map[\"<unk>\"]\n",
    "    pad_id = word_map[\"<pad>\"]\n",
    "    \n",
    "    # 转换\n",
    "    sentence_index = [word_map.get(word, unk_id) for word in sentence.lower().split()]\n",
    "    \n",
    "    # 长度小于给定长度时，填充；长度大于给定长度时，截断。\n",
    "    if len(sentence_index) < max_size:\n",
    "        sentence_index.extend([0] * (max_size - len(sentence_index)))\n",
    "    else:\n",
    "        sentence_index = sentence_index[:max_size]\n",
    "    \n",
    "    return sentence_index"
   ]
  },
  {
   "cell_type": "code",
   "execution_count": 11,
   "metadata": {},
   "outputs": [
    {
     "name": "stdout",
     "output_type": "stream",
     "text": [
      "[328, 65, 144, 311, 1037, 180, 1, 1, 1, 1, 1, 0, 0, 0, 0, 0, 0, 0, 0, 0, 0, 0, 0, 0, 0, 0, 0, 0, 0, 0]\n"
     ]
    }
   ],
   "source": [
    "s = \"I like this move very much ！ 。 / ， 。\"\n",
    "a = sentence_to_index(s)\n",
    "print(a)"
   ]
  },
  {
   "cell_type": "code",
   "execution_count": 12,
   "metadata": {},
   "outputs": [
    {
     "data": {
      "text/plain": [
       "(10662, 30)"
      ]
     },
     "execution_count": 12,
     "metadata": {},
     "output_type": "execute_result"
    }
   ],
   "source": [
    "# 所有训练样本 转化为索引格式\n",
    "x_index = []\n",
    "for _ in x:\n",
    "    single_index = sentence_to_index(_)\n",
    "    x_index.append(single_index)\n",
    "x_index = np.array(x_index)\n",
    "x_index.shape"
   ]
  },
  {
   "cell_type": "code",
   "execution_count": 13,
   "metadata": {},
   "outputs": [
    {
     "name": "stderr",
     "output_type": "stream",
     "text": [
      "400000it [00:46, 8529.49it/s]\n"
     ]
    }
   ],
   "source": [
    "with open(\"data/glove.6B.300d.txt\", \"r\", encoding = \"utf-8\") as f:\n",
    "    word_to_vec = {}\n",
    "    i = 0\n",
    "    for line in tqdm.tqdm(f):\n",
    "        line = line.split()\n",
    "        word_to_vec[line[0]] = np.array(line[1:], dtype=np.float32)"
   ]
  },
  {
   "cell_type": "code",
   "execution_count": 14,
   "metadata": {},
   "outputs": [
    {
     "data": {
      "text/plain": [
       "10112"
      ]
     },
     "execution_count": 14,
     "metadata": {},
     "output_type": "execute_result"
    }
   ],
   "source": [
    "# 词表大小、embedding深度\n",
    "VOCAB_SIZE = len(vocab)\n",
    "EMBEDDING_SIZE = 300\n",
    "VOCAB_SIZE"
   ]
  },
  {
   "cell_type": "code",
   "execution_count": 15,
   "metadata": {
    "collapsed": true
   },
   "outputs": [],
   "source": [
    "# 初始化词向量矩阵，尺寸为 词表大小×embedding深度\n",
    "original_embeddings = np.zeros([VOCAB_SIZE, EMBEDDING_SIZE])\n",
    "\n",
    "for word, index in word_to_index.items():\n",
    "    # 用glove词向量填充矩阵，如果glove中没有该词，则随机给个数\n",
    "    word_vec = word_to_vec.get(word, np.random.randn(EMBEDDING_SIZE) * np.sqrt(2/EMBEDDING_SIZE))\n",
    "    # 词向量矩阵中行号就是词的index值，每个词用300个数表示\n",
    "    original_embeddings[index, :] = word_vec\n",
    "\n",
    "# 将pad的300个数全设为0\n",
    "original_embeddings[word_to_index[\"<pad>\"], :] = 0\n",
    "\n",
    "original_embeddings = original_embeddings.astype(np.float32)"
   ]
  },
  {
   "cell_type": "code",
   "execution_count": 16,
   "metadata": {
    "collapsed": true
   },
   "outputs": [],
   "source": [
    "# 分出训练集和测试集\n",
    "def generate_train_test(x, y, train_ratio=0.8, shuffle=True):\n",
    "    \n",
    "    assert x.shape[0] == y.shape[0], print(\"error shape!\")\n",
    "    \n",
    "    if shuffle:\n",
    "        # permutation函数：打乱顺序\n",
    "        shuffle_indices = np.random.permutation(range(x.shape[0]))\n",
    "        x = x[shuffle_indices]\n",
    "        y = y[shuffle_indices]\n",
    "        \n",
    "    # 从样本中分出训练集和测试集\n",
    "    train_size = int(x.shape[0] * train_ratio)\n",
    "    x_train = x[:train_size]\n",
    "    y_train = y[:train_size]\n",
    "    x_test = x[train_size:]\n",
    "    y_test = y[train_size:]\n",
    "    \n",
    "    return x_train, y_train, x_test, y_test"
   ]
  },
  {
   "cell_type": "code",
   "execution_count": 17,
   "metadata": {},
   "outputs": [
    {
     "name": "stdout",
     "output_type": "stream",
     "text": [
      "(8529, 30)\n",
      "(8529, 1)\n",
      "(2133, 30)\n",
      "(2133, 1)\n"
     ]
    }
   ],
   "source": [
    "x_train, y_train, x_test, y_test = generate_train_test(np.array(x_index), np.array(y))\n",
    "print(x_train.shape)\n",
    "print(y_train.shape)\n",
    "print(x_test.shape)\n",
    "print(y_test.shape)"
   ]
  },
  {
   "cell_type": "code",
   "execution_count": 25,
   "metadata": {
    "collapsed": true
   },
   "outputs": [],
   "source": [
    "# 清空图\n",
    "tf.reset_default_graph()\n",
    "\n",
    "\n",
    "# 定义了5种filter，每种100个\n",
    "filters_size = [2, 3, 4, 5, 6]\n",
    "num_filters = 100\n",
    "# 超参数\n",
    "BATCH_SIZE = 256\n",
    "EPOCHES = 50\n",
    "LEARNING_RATE = 0.001\n",
    "L2_LAMBDA = 10\n",
    "KEEP_PROB = 0.8"
   ]
  },
  {
   "cell_type": "code",
   "execution_count": 26,
   "metadata": {
    "collapsed": true
   },
   "outputs": [],
   "source": [
    "# 分出mini_batch\n",
    "def get_batch(x, y, batch_size=BATCH_SIZE, shuffle=True):\n",
    "    \n",
    "    assert x.shape[0] ==y.shape[0], print(\"error shape!\")\n",
    "    \n",
    "    batches = []\n",
    "    \n",
    "    # 打乱顺序\n",
    "    if shuffle:\n",
    "        shuffle_indices = np.random.permutation(range(x.shape[0]))\n",
    "        x = x[shuffle_indices]\n",
    "        y = y[shuffle_indices]\n",
    "    \n",
    "    # batch数目（整数），如果剩下的样本不够一个batch，那在下面处理剩下的一部分\n",
    "    batch_complete_num = int(x.shape[0] / batch_size)\n",
    "    \n",
    "    # 整数部分\n",
    "    for k in range(batch_complete_num):\n",
    "        batch_x = x[k*batch_size : (k+1)*batch_size, :] # 从k*batch_size到(k+1)*batch_size行,:代表所有列，\n",
    "        batch_y = y[k*batch_size : (k+1)*batch_size, :]\n",
    "        batch = (batch_x, batch_y)\n",
    "        batches.append(batch)\n",
    "    # 剩余部分\n",
    "    if x.shape[0] % batch_size != 0:\n",
    "        batch_x = x[batch_complete_num*batch_size : x.shape[0]]\n",
    "        batch_y = y[batch_complete_num*batch_size : y.shape[0]]\n",
    "        batch = (batch_x, batch_y)\n",
    "        batches.append(batch)\n",
    "    return batches"
   ]
  },
  {
   "cell_type": "code",
   "execution_count": 27,
   "metadata": {},
   "outputs": [
    {
     "name": "stdout",
     "output_type": "stream",
     "text": [
      "(10112, 300)\n",
      "(?, 30, 300)\n",
      "(?, 30, 300, 1)\n",
      "(?, 29, 1, 100)\n",
      "(?, 29, 1, 100)\n",
      "(?, 1, 1, 100)\n",
      "(?, 28, 1, 100)\n",
      "(?, 28, 1, 100)\n",
      "(?, 1, 1, 100)\n",
      "(?, 27, 1, 100)\n",
      "(?, 27, 1, 100)\n",
      "(?, 1, 1, 100)\n",
      "(?, 26, 1, 100)\n",
      "(?, 26, 1, 100)\n",
      "(?, 1, 1, 100)\n",
      "(?, 25, 1, 100)\n",
      "(?, 25, 1, 100)\n",
      "(?, 1, 1, 100)\n"
     ]
    }
   ],
   "source": [
    "with tf.name_scope(\"cnn\"):\n",
    "    with tf.name_scope(\"placeholders\"):\n",
    "        inputs = tf.placeholder(dtype=tf.int32, shape=(None, 30), name=\"inputs\")\n",
    "        targets = tf.placeholder(dtype=tf.float32, shape=(None, 1), name=\"targets\")\n",
    "    \n",
    "    # embeddings\n",
    "    with tf.name_scope(\"embeddings\"):\n",
    "        embedding_matrix = tf.Variable(initial_value=original_embeddings, trainable=False, name=\"embedding_matrix\")\n",
    "        embed = tf.nn.embedding_lookup(embedding_matrix, inputs, name=\"embed\")\n",
    "        # 添加channel维度，参数-1代表增加的维度是最后一个维度\n",
    "        embed_expanded = tf.expand_dims(embed, -1, name=\"embed_expand\")\n",
    "        print(embedding_matrix.shape)\n",
    "        print(embed.shape)\n",
    "        print(embed_expanded.shape)\n",
    "        \n",
    "    \n",
    "    # 用来存储max-pooling的结果\n",
    "    pooled_outputs = []\n",
    " \n",
    "    # 迭代多个filter\n",
    "    for i, filter_size in enumerate(filters_size):\n",
    "        with tf.name_scope(\"conv_maxpool_%s\" % filter_size):\n",
    "            filter_shape = [filter_size, EMBEDDING_SIZE, 1, num_filters]\n",
    "            W = tf.Variable(tf.truncated_normal(filter_shape, mean=0.0, stddev=0.1), name=\"W\")\n",
    "            b = tf.Variable(tf.zeros(num_filters), name=\"b\")\n",
    "\n",
    "            conv = tf.nn.conv2d(input=embed_expanded, \n",
    "                                 filter=W, \n",
    "                                 strides=[1, 1, 1, 1], \n",
    "                                 padding=\"VALID\",\n",
    "                                 name=\"conv\")\n",
    "            print(conv.shape)\n",
    "\n",
    "            # 激活\n",
    "            a = tf.nn.relu(tf.nn.bias_add(conv, b), name=\"activations\")\n",
    "            print(a.shape)\n",
    "            # 池化\n",
    "            max_pooling = tf.nn.max_pool(value=a, \n",
    "                                    ksize=[1, TEXT_MAX_SIZE - filter_size + 1, 1, 1],\n",
    "                                    strides=[1, 1, 1, 1],\n",
    "                                    padding=\"VALID\",\n",
    "                                    name=\"max_pooling\")\n",
    "            pooled_outputs.append(max_pooling)\n",
    "            print(max_pooling.shape)\n",
    "    \n",
    "    # 统计所有的filter\n",
    "    total_filters = num_filters * len(filters_size)\n",
    "    total_pool = tf.concat(pooled_outputs, 3)\n",
    "    flattend_pool = tf.reshape(total_pool, (-1, total_filters))\n",
    "    \n",
    "    # dropout\n",
    "    with tf.name_scope(\"dropout\"):\n",
    "        dropout = tf.nn.dropout(flattend_pool, KEEP_PROB)\n",
    "    \n",
    "    # output\n",
    "    with tf.name_scope(\"output\"):\n",
    "        W = tf.get_variable(\"W\", shape=(total_filters, 1), initializer=tf.contrib.layers.xavier_initializer())\n",
    "        b = tf.Variable(tf.zeros(1), name=\"b\")\n",
    "        \n",
    "        logits = tf.add(tf.matmul(dropout, W), b)\n",
    "        predictions = tf.nn.sigmoid(logits, name=\"predictions\")\n",
    "    \n",
    "    # loss\n",
    "    with tf.name_scope(\"loss\"):\n",
    "        loss = tf.reduce_mean(tf.nn.sigmoid_cross_entropy_with_logits(labels=targets, logits=logits))\n",
    "        loss = loss + L2_LAMBDA * tf.nn.l2_loss(W)\n",
    "        optimizer = tf.train.AdamOptimizer(LEARNING_RATE).minimize(loss)\n",
    "    \n",
    "    # evaluation\n",
    "    with tf.name_scope(\"evaluation\"):\n",
    "        correct_preds = tf.equal(tf.cast(tf.greater(predictions, 0.5), tf.float32), targets)\n",
    "        accuracy = tf.reduce_sum(tf.reduce_sum(tf.cast(correct_preds, tf.float32), axis=1))"
   ]
  },
  {
   "cell_type": "markdown",
   "metadata": {},
   "source": [
    "## 训练模型"
   ]
  },
  {
   "cell_type": "code",
   "execution_count": 27,
   "metadata": {
    "collapsed": true
   },
   "outputs": [],
   "source": [
    "# 存储准确率\n",
    "cnn_train_accuracy = []\n",
    "cnn_test_accuracy = []"
   ]
  },
  {
   "cell_type": "code",
   "execution_count": 28,
   "metadata": {
    "collapsed": true
   },
   "outputs": [],
   "source": [
    "saver = tf.train.Saver()"
   ]
  },
  {
   "cell_type": "code",
   "execution_count": 29,
   "metadata": {},
   "outputs": [
    {
     "name": "stdout",
     "output_type": "stream",
     "text": [
      "Training epoch: 1, Training loss: 7.6261, Train accuracy: 0.7246, Test accuracy: 0.6929\n",
      "Training epoch: 2, Training loss: 2.9033, Train accuracy: 0.7635, Test accuracy: 0.7018\n",
      "Training epoch: 3, Training loss: 1.2488, Train accuracy: 0.7819, Test accuracy: 0.7211\n",
      "Training epoch: 4, Training loss: 0.7856, Train accuracy: 0.7914, Test accuracy: 0.7412\n",
      "Training epoch: 5, Training loss: 0.6696, Train accuracy: 0.7493, Test accuracy: 0.7131\n",
      "Training epoch: 6, Training loss: 0.6332, Train accuracy: 0.7738, Test accuracy: 0.7511\n",
      "Training epoch: 7, Training loss: 0.6073, Train accuracy: 0.7883, Test accuracy: 0.7600\n",
      "Training epoch: 8, Training loss: 0.5913, Train accuracy: 0.7752, Test accuracy: 0.7450\n",
      "Training epoch: 9, Training loss: 0.5768, Train accuracy: 0.7917, Test accuracy: 0.7609\n",
      "Training epoch: 10, Training loss: 0.5653, Train accuracy: 0.7870, Test accuracy: 0.7487\n",
      "Training epoch: 11, Training loss: 0.5563, Train accuracy: 0.7996, Test accuracy: 0.7651\n",
      "Training epoch: 12, Training loss: 0.5448, Train accuracy: 0.8043, Test accuracy: 0.7614\n",
      "Training epoch: 13, Training loss: 0.5398, Train accuracy: 0.8011, Test accuracy: 0.7581\n",
      "Training epoch: 14, Training loss: 0.5293, Train accuracy: 0.8139, Test accuracy: 0.7590\n",
      "Training epoch: 15, Training loss: 0.5234, Train accuracy: 0.7986, Test accuracy: 0.7553\n",
      "Training epoch: 16, Training loss: 0.5230, Train accuracy: 0.8207, Test accuracy: 0.7665\n",
      "Training epoch: 17, Training loss: 0.5171, Train accuracy: 0.8310, Test accuracy: 0.7647\n",
      "Training epoch: 18, Training loss: 0.5123, Train accuracy: 0.8245, Test accuracy: 0.7675\n",
      "Training epoch: 19, Training loss: 0.5048, Train accuracy: 0.8288, Test accuracy: 0.7665\n",
      "Training epoch: 20, Training loss: 0.4941, Train accuracy: 0.8318, Test accuracy: 0.7731\n",
      "Training epoch: 21, Training loss: 0.4898, Train accuracy: 0.8388, Test accuracy: 0.7679\n",
      "Training epoch: 22, Training loss: 0.4850, Train accuracy: 0.8367, Test accuracy: 0.7717\n",
      "Training epoch: 23, Training loss: 0.4800, Train accuracy: 0.8404, Test accuracy: 0.7684\n",
      "Training epoch: 24, Training loss: 0.4778, Train accuracy: 0.8445, Test accuracy: 0.7736\n",
      "Training epoch: 25, Training loss: 0.4729, Train accuracy: 0.8475, Test accuracy: 0.7684\n",
      "Training epoch: 26, Training loss: 0.4709, Train accuracy: 0.8420, Test accuracy: 0.7618\n",
      "Training epoch: 27, Training loss: 0.4639, Train accuracy: 0.8554, Test accuracy: 0.7698\n",
      "Training epoch: 28, Training loss: 0.4586, Train accuracy: 0.8611, Test accuracy: 0.7740\n",
      "Training epoch: 29, Training loss: 0.4575, Train accuracy: 0.8632, Test accuracy: 0.7717\n",
      "Training epoch: 30, Training loss: 0.4547, Train accuracy: 0.8648, Test accuracy: 0.7684\n",
      "Training epoch: 31, Training loss: 0.4470, Train accuracy: 0.8686, Test accuracy: 0.7754\n",
      "Training epoch: 32, Training loss: 0.4429, Train accuracy: 0.8734, Test accuracy: 0.7787\n",
      "Training epoch: 33, Training loss: 0.4402, Train accuracy: 0.8754, Test accuracy: 0.7717\n",
      "Training epoch: 34, Training loss: 0.4360, Train accuracy: 0.8765, Test accuracy: 0.7717\n",
      "Training epoch: 35, Training loss: 0.4307, Train accuracy: 0.8767, Test accuracy: 0.7773\n",
      "Training epoch: 36, Training loss: 0.4276, Train accuracy: 0.8851, Test accuracy: 0.7726\n",
      "Training epoch: 37, Training loss: 0.4252, Train accuracy: 0.8740, Test accuracy: 0.7647\n",
      "Training epoch: 38, Training loss: 0.4190, Train accuracy: 0.8877, Test accuracy: 0.7773\n",
      "Training epoch: 39, Training loss: 0.4162, Train accuracy: 0.8919, Test accuracy: 0.7726\n",
      "Training epoch: 40, Training loss: 0.4148, Train accuracy: 0.8927, Test accuracy: 0.7740\n",
      "Training epoch: 41, Training loss: 0.4096, Train accuracy: 0.8965, Test accuracy: 0.7731\n",
      "Training epoch: 42, Training loss: 0.4123, Train accuracy: 0.8982, Test accuracy: 0.7834\n",
      "Training epoch: 43, Training loss: 0.4072, Train accuracy: 0.8904, Test accuracy: 0.7642\n",
      "Training epoch: 44, Training loss: 0.4058, Train accuracy: 0.9009, Test accuracy: 0.7801\n",
      "Training epoch: 45, Training loss: 0.4050, Train accuracy: 0.9060, Test accuracy: 0.7815\n",
      "Training epoch: 46, Training loss: 0.3970, Train accuracy: 0.9080, Test accuracy: 0.7937\n",
      "Training epoch: 47, Training loss: 0.3952, Train accuracy: 0.9148, Test accuracy: 0.7787\n",
      "Training epoch: 48, Training loss: 0.3921, Train accuracy: 0.9152, Test accuracy: 0.7754\n",
      "Training epoch: 49, Training loss: 0.3916, Train accuracy: 0.9073, Test accuracy: 0.7717\n",
      "Training epoch: 50, Training loss: 0.3871, Train accuracy: 0.9165, Test accuracy: 0.7797\n"
     ]
    }
   ],
   "source": [
    "with tf.Session() as sess:\n",
    "    sess.run(tf.global_variables_initializer())\n",
    "    \n",
    "    writer = tf.summary.FileWriter(\"./graphs/cnn\", tf.get_default_graph())\n",
    "    n_batches = int(x_train.shape[0] / BATCH_SIZE)\n",
    "    \n",
    "    for epoch in range(EPOCHES):\n",
    "        total_loss = 0\n",
    "        for x_batch, y_batch in get_batch(x_train, y_train):\n",
    "            _, l = sess.run([optimizer, loss],\n",
    "                            feed_dict={inputs: x_batch, \n",
    "                                       targets: y_batch})\n",
    "            total_loss += l\n",
    "        \n",
    "        train_corrects = sess.run(accuracy, feed_dict={inputs: x_train, targets: y_train})\n",
    "        train_acc = train_corrects / x_train.shape[0]\n",
    "        cnn_train_accuracy.append(train_acc)\n",
    "        \n",
    "        test_corrects = sess.run(accuracy, feed_dict={inputs: x_test, targets: y_test})\n",
    "        test_acc = test_corrects / x_test.shape[0]\n",
    "        cnn_test_accuracy.append(test_acc)\n",
    "        \n",
    "        print(\"Training epoch: {}, Training loss: {:.4f}, Train accuracy: {:.4f}, Test accuracy: {:.4f}\".format(epoch + 1, \n",
    "                                                                                                                total_loss / n_batches,\n",
    "                                                                                                                train_acc,\n",
    "                                                                                                               test_acc))\n",
    "    \n",
    "    saver.save(sess, \"checkpoints/cnn\")\n",
    "    writer.close()"
   ]
  },
  {
   "cell_type": "code",
   "execution_count": 32,
   "metadata": {},
   "outputs": [
    {
     "data": {
      "image/png": "[encoded data removed]",
      "text/plain": [
       "<matplotlib.figure.Figure at 0x1f734ad87b8>"
      ]
     },
     "metadata": {},
     "output_type": "display_data"
    }
   ],
   "source": [
    "import matplotlib.pyplot as plt\n",
    "plt.plot(cnn_train_accuracy)\n",
    "plt.plot(cnn_test_accuracy)\n",
    "plt.ylim(ymin=0.5, ymax=1.01)\n",
    "plt.title(\"The accuracy of CNN model\")\n",
    "plt.legend([\"train\", \"test\"])\n",
    "plt.show()"
   ]
  },
  {
   "cell_type": "code",
   "execution_count": 33,
   "metadata": {},
   "outputs": [
    {
     "name": "stdout",
     "output_type": "stream",
     "text": [
      "INFO:tensorflow:Restoring parameters from checkpoints/cnn\n",
      "The LSTM model accuracy on test set: 77.45%\n"
     ]
    }
   ],
   "source": [
    "# 在test上的准确率\n",
    "with tf.Session() as sess:\n",
    "    saver.restore(sess, \"checkpoints/cnn\")\n",
    "    \n",
    "    total_correct = sess.run(accuracy,\n",
    "                             feed_dict={inputs: x_test, targets: y_test})\n",
    "\n",
    "    print(\"The LSTM model accuracy on test set: {:.2f}%\".format(100 * total_correct / x_test.shape[0]))"
   ]
  },
  {
   "cell_type": "markdown",
   "metadata": {},
   "source": [
    "# CNN multi-channel"
   ]
  },
  {
   "cell_type": "code",
   "execution_count": 57,
   "metadata": {
    "collapsed": true
   },
   "outputs": [],
   "source": [
    "# 清空图\n",
    "tf.reset_default_graph()"
   ]
  },
  {
   "cell_type": "code",
   "execution_count": 58,
   "metadata": {
    "collapsed": true
   },
   "outputs": [],
   "source": [
    "# 定义了5种filter，每种100个\n",
    "filters_size = [2, 3, 4, 5, 6]\n",
    "num_filters = 100\n",
    "# 超参数\n",
    "BATCH_SIZE = 256\n",
    "EPOCHES = 9\n",
    "LEARNING_RATE = 0.001\n",
    "L2_LAMBDA = 10\n",
    "KEEP_PROB = 0.8"
   ]
  },
  {
   "cell_type": "code",
   "execution_count": 59,
   "metadata": {
    "collapsed": true
   },
   "outputs": [],
   "source": [
    "with tf.name_scope(\"cnn_multichannels\"):\n",
    "    with tf.name_scope(\"placeholders\"):\n",
    "        inputs = tf.placeholder(dtype=tf.int32, shape=(None, 30), name=\"inputs\")\n",
    "        targets = tf.placeholder(dtype=tf.float32, shape=(None, 1), name=\"targets\")\n",
    "    # embeddings\n",
    "    with tf.name_scope(\"embeddings\"):\n",
    "        # static embeddings\n",
    "        static_embedding_matrix = tf.Variable(initial_value=original_embeddings, \n",
    "                                              trainable=False, \n",
    "                                              name=\"static_embedding_matrix\")\n",
    "        static_embed = tf.nn.embedding_lookup(static_embedding_matrix, inputs, name=\"static_embed\")\n",
    "        static_embed_expanded = tf.expand_dims(static_embed, -1, name=\"static_embed_expand\")\n",
    "        \n",
    "        # non-static embeddings\n",
    "        dynamic_embedding_matrix = tf.Variable(tf.random_normal(shape=(VOCAB_SIZE, EMBEDDING_SIZE), stddev=0.1), \n",
    "                                               trainable=True, \n",
    "                                               name=\"dynamic_embedding_matrix\")\n",
    "        dynamic_embed = tf.nn.embedding_lookup(dynamic_embedding_matrix, inputs, name=\"dynamic_embed\")\n",
    "        dynamic_embed_expanded = tf.expand_dims(dynamic_embed, -1, name=\"dynamic_embed_expand\")\n",
    "        \n",
    "        # stack\n",
    "        embed_expanded = tf.concat((static_embed_expanded, dynamic_embed_expanded), axis=-1, name=\"embed_expanded\")\n",
    "    \n",
    "    pooled_outputs = []\n",
    "\n",
    "    # 迭代多个filter\n",
    "    for i, filter_size in enumerate(filters_size):\n",
    "        with tf.name_scope(\"conv_maxpool_%s\" % filter_size):\n",
    "            # 注意这里filter的channel要指定为2\n",
    "            filter_shape = [filter_size, EMBEDDING_SIZE, 2, num_filters]\n",
    "            W = tf.Variable(tf.truncated_normal(filter_shape, mean=0.0, stddev=0.1), name=\"W\")\n",
    "            b = tf.Variable(tf.zeros(num_filters), name=\"b\")\n",
    "\n",
    "            conv = tf.nn.conv2d(input=embed_expanded, \n",
    "                                 filter=W, \n",
    "                                 strides=[1, 1, 1, 1], \n",
    "                                 padding=\"VALID\",\n",
    "                                 name=\"conv\")\n",
    "\n",
    "            # 激活\n",
    "            a = tf.nn.relu(tf.nn.bias_add(conv, b), name=\"activations\")\n",
    "            # 池化\n",
    "            max_pooling = tf.nn.max_pool(value=a, \n",
    "                                    ksize=[1, TEXT_MAX_SIZE - filter_size + 1, 1, 1],\n",
    "                                    strides=[1, 1, 1, 1],\n",
    "                                   padding=\"VALID\",\n",
    "                                   name=\"max_pooling\")\n",
    "            pooled_outputs.append(max_pooling)\n",
    "        \n",
    "    total_filters = num_filters * len(filters_size)\n",
    "    total_pool = tf.concat(pooled_outputs, 3)\n",
    "    flattend_pool = tf.reshape(total_pool, (-1, total_filters))\n",
    "    \n",
    "    with tf.name_scope(\"dropout\"):\n",
    "        dropout = tf.nn.dropout(flattend_pool, KEEP_PROB)\n",
    "    \n",
    "    with tf.name_scope(\"output\"):\n",
    "        W = tf.get_variable(\"W\", shape=(total_filters, 1), initializer=tf.contrib.layers.xavier_initializer())\n",
    "        b = tf.Variable(tf.zeros(1), name=\"b\")\n",
    "        \n",
    "        logits = tf.add(tf.matmul(dropout, W), b)\n",
    "        predictions = tf.nn.sigmoid(logits, name=\"predictions\")\n",
    "    \n",
    "    with tf.name_scope(\"loss\"):\n",
    "        loss = tf.reduce_mean(tf.nn.sigmoid_cross_entropy_with_logits(labels=targets, logits=logits))\n",
    "        loss = loss + L2_LAMBDA * tf.nn.l2_loss(W)\n",
    "        optimizer = tf.train.AdamOptimizer(LEARNING_RATE).minimize(loss)\n",
    "    \n",
    "    with tf.name_scope(\"evaluation\"):\n",
    "        correct_preds = tf.equal(tf.cast(tf.greater(predictions, 0.5), tf.float32), targets)\n",
    "        accuracy = tf.reduce_sum(tf.reduce_sum(tf.cast(correct_preds, tf.float32), axis=1))"
   ]
  },
  {
   "cell_type": "markdown",
   "metadata": {},
   "source": [
    "## 训练模型"
   ]
  },
  {
   "cell_type": "code",
   "execution_count": 60,
   "metadata": {
    "collapsed": true
   },
   "outputs": [],
   "source": [
    "multi_cnn_train_accuracy = []\n",
    "multi_cnn_test_accuracy = []"
   ]
  },
  {
   "cell_type": "code",
   "execution_count": 61,
   "metadata": {
    "collapsed": true
   },
   "outputs": [],
   "source": [
    "saver = tf.train.Saver()"
   ]
  },
  {
   "cell_type": "code",
   "execution_count": 62,
   "metadata": {},
   "outputs": [
    {
     "name": "stdout",
     "output_type": "stream",
     "text": [
      "Training epoch: 1, Training loss: 7.6033, Train accuracy: 0.7703, Test accuracy: 0.6976\n",
      "Training epoch: 2, Training loss: 2.8780, Train accuracy: 0.8245, Test accuracy: 0.7150\n",
      "Training epoch: 3, Training loss: 1.2345, Train accuracy: 0.8537, Test accuracy: 0.7332\n",
      "Training epoch: 4, Training loss: 0.7600, Train accuracy: 0.8631, Test accuracy: 0.7468\n",
      "Training epoch: 5, Training loss: 0.6400, Train accuracy: 0.8374, Test accuracy: 0.7473\n",
      "Training epoch: 6, Training loss: 0.5876, Train accuracy: 0.8492, Test accuracy: 0.7722\n",
      "Training epoch: 7, Training loss: 0.5403, Train accuracy: 0.8701, Test accuracy: 0.7759\n",
      "Training epoch: 8, Training loss: 0.4962, Train accuracy: 0.8892, Test accuracy: 0.7754\n",
      "Training epoch: 9, Training loss: 0.4509, Train accuracy: 0.9139, Test accuracy: 0.7881\n"
     ]
    }
   ],
   "source": [
    "with tf.Session() as sess:\n",
    "    sess.run(tf.global_variables_initializer())\n",
    "    \n",
    "    writer = tf.summary.FileWriter(\"./graphs/multi_cnn\", tf.get_default_graph())\n",
    "    n_batches = int(x_train.shape[0] / BATCH_SIZE)\n",
    "    \n",
    "    for epoch in range(EPOCHES):\n",
    "        total_loss = 0\n",
    "        for x_batch, y_batch in get_batch(x_train, y_train):\n",
    "            _, l = sess.run([optimizer, loss],\n",
    "                            feed_dict={inputs: x_batch, \n",
    "                                       targets: y_batch})\n",
    "            total_loss += l\n",
    "        \n",
    "        train_corrects = sess.run(accuracy, feed_dict={inputs: x_train, targets: y_train})\n",
    "        train_acc = train_corrects / x_train.shape[0]\n",
    "        multi_cnn_train_accuracy.append(train_acc)\n",
    "        \n",
    "        test_corrects = sess.run(accuracy, feed_dict={inputs: x_test, targets: y_test})\n",
    "        test_acc = test_corrects / x_test.shape[0]\n",
    "        multi_cnn_test_accuracy.append(test_acc)\n",
    "        \n",
    "        print(\"Training epoch: {}, Training loss: {:.4f}, Train accuracy: {:.4f}, Test accuracy: {:.4f}\".format(epoch + 1, \n",
    "                                                                                                                total_loss / n_batches,\n",
    "                                                                                                                train_acc,\n",
    "                                                                                                                test_acc))\n",
    "    \n",
    "    saver.save(sess, \"checkpoints/multi_cnn\")\n",
    "    writer.close()"
   ]
  },
  {
   "cell_type": "code",
   "execution_count": 63,
   "metadata": {},
   "outputs": [
    {
     "data": {
      "image/png": "[encoded data removed]",
      "text/plain": [
       "<matplotlib.figure.Figure at 0x1f70a926748>"
      ]
     },
     "metadata": {},
     "output_type": "display_data"
    }
   ],
   "source": [
    "plt.plot(multi_cnn_train_accuracy)\n",
    "plt.plot(multi_cnn_test_accuracy)\n",
    "plt.ylim(ymin=0.5, ymax=1.01)\n",
    "plt.title(\"The accuracy of multi-channel CNN model\")\n",
    "plt.legend([\"train\", \"test\"])\n",
    "plt.show()"
   ]
  },
  {
   "cell_type": "code",
   "execution_count": 64,
   "metadata": {},
   "outputs": [
    {
     "name": "stdout",
     "output_type": "stream",
     "text": [
      "INFO:tensorflow:Restoring parameters from checkpoints/multi_cnn\n",
      "The LSTM model accuracy on test set: 79.09%\n"
     ]
    }
   ],
   "source": [
    "# 在test上的准确率\n",
    "with tf.Session() as sess:\n",
    "    saver.restore(sess, \"checkpoints/multi_cnn\")\n",
    "    \n",
    "    total_correct = sess.run(accuracy,\n",
    "                             feed_dict={inputs: x_test, targets: y_test})\n",
    "\n",
    "    print(\"The CNN model accuracy on test set: {:.2f}%\".format(100 * total_correct / x_test.shape[0]))"
   ]
  },
  {
   "cell_type": "code",
   "execution_count": null,
   "metadata": {
    "collapsed": true
   },
   "outputs": [],
   "source": []
  }
 ],
 "metadata": {
  "kernelspec": {
   "display_name": "Python 3",
   "language": "python",
   "name": "python3"
  },
  "language_info": {
   "codemirror_mode": {
    "name": "ipython",
    "version": 3
   },
   "file_extension": ".py",
   "mimetype": "text/x-python",
   "name": "python",
   "nbconvert_exporter": "python",
   "pygments_lexer": "ipython3",
   "version": "3.6.3"
  }
 },
 "nbformat": 4,
 "nbformat_minor": 2
}
