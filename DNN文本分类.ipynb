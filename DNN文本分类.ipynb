{
 "cells": [
  {
   "cell_type": "code",
   "execution_count": 1,
   "metadata": {},
   "outputs": [
    {
     "name": "stderr",
     "output_type": "stream",
     "text": [
      "D:\\Anaconda\\lib\\site-packages\\h5py\\__init__.py:34: FutureWarning: Conversion of the second argument of issubdtype from `float` to `np.floating` is deprecated. In future, it will be treated as `np.float64 == np.dtype(float).type`.\n",
      "  from ._conv import register_converters as _register_converters\n"
     ]
    }
   ],
   "source": [
    "import numpy as np\n",
    "import tensorflow as tf\n",
    "import re\n",
    "import tqdm"
   ]
  },
  {
   "cell_type": "markdown",
   "metadata": {},
   "source": [
    "## 加载数据"
   ]
  },
  {
   "cell_type": "code",
   "execution_count": 2,
   "metadata": {
    "collapsed": true
   },
   "outputs": [],
   "source": [
    "# 替换一些字符，所有字母变为小写\n",
    "def clean_str(string):\n",
    "    \"\"\"\n",
    "    Tokenization/string cleaning for all datasets except for SST.\n",
    "    Original taken from https://github.com/yoonkim/CNN_sentence/blob/master/process_data.py\n",
    "    \"\"\"\n",
    "    string = re.sub(r\"[^A-Za-z0-9(),!?\\'\\`]\", \" \", string)\n",
    "    string = re.sub(r\"\\'s\", \" \\'s\", string)\n",
    "    string = re.sub(r\"\\'ve\", \" \\'ve\", string)\n",
    "    string = re.sub(r\"n\\'t\", \" n\\'t\", string)\n",
    "    string = re.sub(r\"\\'re\", \" \\'re\", string)\n",
    "    string = re.sub(r\"\\'d\", \" \\'d\", string)\n",
    "    string = re.sub(r\"\\'ll\", \" \\'ll\", string)\n",
    "    string = re.sub(r\",\", \" , \", string)\n",
    "    string = re.sub(r\"!\", \" ! \", string)\n",
    "    string = re.sub(r\"\\(\", \" \\( \", string)\n",
    "    string = re.sub(r\"\\)\", \" \\) \", string)\n",
    "    string = re.sub(r\"\\?\", \" \\? \", string)\n",
    "    string = re.sub(r\"\\s{2,}\", \" \", string)\n",
    "    return string.strip().lower()"
   ]
  },
  {
   "cell_type": "code",
   "execution_count": 3,
   "metadata": {
    "collapsed": true
   },
   "outputs": [],
   "source": [
    "# 加载数据，并对数据做处理\n",
    "def load_data(pos_data, neg_data):\n",
    "    # 读入样本，将样本放入list中\n",
    "    pos = list(open(pos_data, \"r\", encoding='utf-8').readlines())\n",
    "    # strip()移除字符串头尾指定的字符（默认为空格或换行符）或字符序列\n",
    "    pos = [s.strip() for s in pos]\n",
    "    \n",
    "    neg = list(open(neg_data, \"r\", encoding='utf-8').readlines())\n",
    "    neg = [s.strip() for s in neg]\n",
    "\n",
    "    x = pos + neg\n",
    "    x = [clean_str(_) for _ in x]\n",
    "    x = np.array(x)\n",
    "    \n",
    "    pos_label = [[0] for _ in pos]\n",
    "    neg_label = [[1] for _ in neg]\n",
    "    \n",
    "    y = np.concatenate([pos_label, neg_label], axis=0) # axis=0 按行拼接\n",
    "    y = np.array(y)\n",
    "    # y = tf.concat(0, [pos_label, neg_label]) 也可以这样写 与上一行作用相同\n",
    "    return [x, y]"
   ]
  },
  {
   "cell_type": "code",
   "execution_count": 4,
   "metadata": {},
   "outputs": [
    {
     "name": "stdout",
     "output_type": "stream",
     "text": [
      "加载数据ing...\n",
      "评价平均长度: 20.38585631213656\n",
      "最长的评价长度：56\n",
      "最短的评价长度：1\n",
      "(10662,)\n",
      "(10662, 1)\n"
     ]
    }
   ],
   "source": [
    "print(\"加载数据ing...\")\n",
    "x, y = load_data(\"data/pos.txt\", \"data/neg.txt\")\n",
    "\n",
    "# 查看数据\n",
    "print(\"评价平均长度: {}\".format(np.mean([len(sentence.split()) for sentence in x])))\n",
    "max_document_length = max([len(_.split(\" \")) for _ in x]) # 找到最长的句子\n",
    "print(\"最长的评价长度：{}\".format(max_document_length))\n",
    "min_document_length = min([len(_.split(\" \")) for _ in x]) # 找到最长的句子\n",
    "print(\"最短的评价长度：{}\".format(min_document_length))\n",
    "\n",
    "print(x.shape)\n",
    "print(y.shape)"
   ]
  },
  {
   "cell_type": "code",
   "execution_count": 5,
   "metadata": {
    "collapsed": true
   },
   "outputs": [],
   "source": [
    "# 设置评价最大长度\n",
    "TEXT_MAX_SIZE = 30"
   ]
  },
  {
   "cell_type": "code",
   "execution_count": 6,
   "metadata": {
    "collapsed": true
   },
   "outputs": [],
   "source": [
    "# 建立词典 key为单词 value为出现次数\n",
    "voc_dic = {}\n",
    "for sentence in x:\n",
    "    words = sentence.split()\n",
    "    for word in words:\n",
    "        if word in voc_dic:\n",
    "            voc_dic[word] += 1\n",
    "        else:\n",
    "            voc_dic[word] = 1"
   ]
  },
  {
   "cell_type": "code",
   "execution_count": 7,
   "metadata": {},
   "outputs": [
    {
     "name": "stdout",
     "output_type": "stream",
     "text": [
      "词典长度：10112\n"
     ]
    }
   ],
   "source": [
    "# 构建词表\n",
    "vocab = [\"<pad>\", \"<unk>\"]\n",
    "\n",
    "# 词频大于1的才加入词表\n",
    "for k, v in voc_dic.items():\n",
    "    if v > 1:\n",
    "        vocab.append(k)\n",
    "\n",
    "print('词典长度：{}'.format(len(vocab)))"
   ]
  },
  {
   "cell_type": "code",
   "execution_count": 8,
   "metadata": {
    "collapsed": true
   },
   "outputs": [],
   "source": [
    "# 构建单词到索引的映射(每个数字代表一个单词或一个符号)\n",
    "word_to_index = {word: index for index, word in enumerate(vocab)}\n",
    "\n",
    "# 索引到单词的映射：\n",
    "index_to_word = {index: word for index, word in enumerate(vocab)}"
   ]
  },
  {
   "cell_type": "code",
   "execution_count": 9,
   "metadata": {
    "collapsed": true
   },
   "outputs": [],
   "source": [
    "# 定义一个将句子中每个word转换为index的函数：\n",
    "def sentence_to_index(sentence, max_size=TEXT_MAX_SIZE, word_map=word_to_index):\n",
    "    # unknown和pad的index\n",
    "    unk_id = word_map[\"<unk>\"]\n",
    "    pad_id = word_map[\"<pad>\"]\n",
    "    \n",
    "    # 转换\n",
    "    sentence_index = [word_map.get(word, unk_id) for word in sentence.lower().split()]\n",
    "    \n",
    "    # 长度小于给定长度时，填充；长度大于给定长度时，截断。\n",
    "    if len(sentence_index) < max_size:\n",
    "        sentence_index.extend([0] * (max_size - len(sentence_index)))\n",
    "    else:\n",
    "        sentence_index = sentence_index[:max_size]\n",
    "    \n",
    "    return sentence_index"
   ]
  },
  {
   "cell_type": "code",
   "execution_count": 10,
   "metadata": {},
   "outputs": [
    {
     "name": "stdout",
     "output_type": "stream",
     "text": [
      "[328, 65, 144, 311, 1037, 180, 1, 1, 1, 1, 1, 0, 0, 0, 0, 0, 0, 0, 0, 0, 0, 0, 0, 0, 0, 0, 0, 0, 0, 0]\n"
     ]
    }
   ],
   "source": [
    "s = \"I like this move very much ！ 。 / ， 。\"\n",
    "a = sentence_to_index(s)\n",
    "print(a)"
   ]
  },
  {
   "cell_type": "code",
   "execution_count": 11,
   "metadata": {},
   "outputs": [
    {
     "data": {
      "text/plain": [
       "(10662, 30)"
      ]
     },
     "execution_count": 11,
     "metadata": {},
     "output_type": "execute_result"
    }
   ],
   "source": [
    "# 所有训练样本 转化为索引格式\n",
    "x_index = []\n",
    "for _ in x:\n",
    "    single_index = sentence_to_index(_)\n",
    "    x_index.append(single_index)\n",
    "x_index = np.array(x_index)\n",
    "x_index.shape"
   ]
  },
  {
   "cell_type": "code",
   "execution_count": 12,
   "metadata": {},
   "outputs": [
    {
     "name": "stderr",
     "output_type": "stream",
     "text": [
      "400000it [00:54, 7334.35it/s]\n"
     ]
    }
   ],
   "source": [
    "with open(\"data/glove.6B.300d.txt\", \"r\", encoding = \"utf-8\") as f:\n",
    "    word_to_vec = {}\n",
    "    i = 0\n",
    "    for line in tqdm.tqdm(f):\n",
    "        line = line.split()\n",
    "        word_to_vec[line[0]] = np.array(line[1:], dtype=np.float32)"
   ]
  },
  {
   "cell_type": "code",
   "execution_count": 13,
   "metadata": {},
   "outputs": [
    {
     "data": {
      "text/plain": [
       "10112"
      ]
     },
     "execution_count": 13,
     "metadata": {},
     "output_type": "execute_result"
    }
   ],
   "source": [
    "# 词表大小、embedding深度\n",
    "VOCAB_SIZE = len(vocab)\n",
    "EMBEDDING_SIZE = 300\n",
    "VOCAB_SIZE"
   ]
  },
  {
   "cell_type": "code",
   "execution_count": 14,
   "metadata": {
    "collapsed": true
   },
   "outputs": [],
   "source": [
    "# 初始化词向量矩阵，尺寸为 词表大小×embedding深度\n",
    "original_embeddings = np.zeros([VOCAB_SIZE, EMBEDDING_SIZE])\n",
    "\n",
    "for word, index in word_to_index.items():\n",
    "    # 用glove词向量填充矩阵，如果glove中没有该词，则随机给个数\n",
    "    word_vec = word_to_vec.get(word, np.random.randn(EMBEDDING_SIZE) * np.sqrt(2/EMBEDDING_SIZE))\n",
    "    # 词向量矩阵中行号就是词的index值，每个词用300个数表示\n",
    "    original_embeddings[index, :] = word_vec\n",
    "\n",
    "# 将pad的300个数全设为0\n",
    "original_embeddings[word_to_index[\"<pad>\"], :] = 0\n",
    "\n",
    "original_embeddings = original_embeddings.astype(np.float32)"
   ]
  },
  {
   "cell_type": "code",
   "execution_count": 15,
   "metadata": {
    "collapsed": true
   },
   "outputs": [],
   "source": [
    "# 分出训练集和测试集\n",
    "def generate_train_test(x, y, train_ratio=0.8, shuffle=True):\n",
    "    \n",
    "    assert x.shape[0] == y.shape[0], print(\"error shape!\")\n",
    "    \n",
    "    if shuffle:\n",
    "        # permutation函数：打乱顺序\n",
    "        shuffle_indices = np.random.permutation(range(x.shape[0]))\n",
    "        x = x[shuffle_indices]\n",
    "        y = y[shuffle_indices]\n",
    "        \n",
    "    # 从样本中分出训练集和测试集\n",
    "    train_size = int(x.shape[0] * train_ratio)\n",
    "    x_train = x[:train_size]\n",
    "    y_train = y[:train_size]\n",
    "    x_test = x[train_size:]\n",
    "    y_test = y[train_size:]\n",
    "    \n",
    "    return x_train, y_train, x_test, y_test"
   ]
  },
  {
   "cell_type": "code",
   "execution_count": 16,
   "metadata": {},
   "outputs": [
    {
     "name": "stdout",
     "output_type": "stream",
     "text": [
      "(8529, 30)\n",
      "(8529, 1)\n",
      "(2133, 30)\n",
      "(2133, 1)\n"
     ]
    }
   ],
   "source": [
    "x_train, y_train, x_test, y_test = generate_train_test(np.array(x_index), np.array(y))\n",
    "print(x_train.shape)\n",
    "print(y_train.shape)\n",
    "print(x_test.shape)\n",
    "print(y_test.shape)"
   ]
  },
  {
   "cell_type": "code",
   "execution_count": 17,
   "metadata": {
    "collapsed": true
   },
   "outputs": [],
   "source": [
    "# 清空图\n",
    "tf.reset_default_graph()\n",
    "\n",
    "# 定义超参数\n",
    "HIDDEN_SIZE = 64\n",
    "HIDDEN_SIZE2 = 32\n",
    "LEARNING_RATE = 0.001\n",
    "EPOCHES = 50\n",
    "BATCH_SIZE = 256"
   ]
  },
  {
   "cell_type": "code",
   "execution_count": 18,
   "metadata": {
    "collapsed": true
   },
   "outputs": [],
   "source": [
    "# 分出mini_batch\n",
    "def get_batch(x, y, batch_size=BATCH_SIZE, shuffle=True):\n",
    "    \n",
    "    assert x.shape[0] ==y.shape[0], print(\"error shape!\")\n",
    "    \n",
    "    batches = []\n",
    "    \n",
    "    # 打乱顺序\n",
    "    if shuffle:\n",
    "        shuffle_indices = np.random.permutation(range(x.shape[0]))\n",
    "        x = x[shuffle_indices]\n",
    "        y = y[shuffle_indices]\n",
    "    \n",
    "    # batch数目（整数），如果剩下的样本不够一个batch，那在下面处理剩下的一部分\n",
    "    batch_complete_num = int(x.shape[0] / batch_size)\n",
    "    \n",
    "    # 整数部分\n",
    "    for k in range(batch_complete_num):\n",
    "        batch_x = x[k*batch_size : (k+1)*batch_size, :] # 从k*batch_size到(k+1)*batch_size行,:代表所有列，\n",
    "        batch_y = y[k*batch_size : (k+1)*batch_size, :]\n",
    "        batch = (batch_x, batch_y)\n",
    "        batches.append(batch)\n",
    "    # 剩余部分\n",
    "    if x.shape[0] % batch_size != 0:\n",
    "        batch_x = x[batch_complete_num*batch_size : x.shape[0]]\n",
    "        batch_y = y[batch_complete_num*batch_size : y.shape[0]]\n",
    "        batch = (batch_x, batch_y)\n",
    "        batches.append(batch)\n",
    "    return batches"
   ]
  },
  {
   "cell_type": "markdown",
   "metadata": {},
   "source": [
    "## **模型**"
   ]
  },
  {
   "cell_type": "code",
   "execution_count": 19,
   "metadata": {
    "collapsed": true
   },
   "outputs": [],
   "source": [
    "with tf.name_scope(\"dnn\"):\n",
    "    # 定义输入输出\n",
    "    with tf.name_scope(\"placeholders\"):\n",
    "        inputs = tf.placeholder(shape=(None, TEXT_MAX_SIZE), dtype=tf.int32, name= \"inputs\")\n",
    "        targets = tf.placeholder(shape=(None, 1), dtype=tf.float32, name=\"targets\")\n",
    "    # 定义embedding层\n",
    "    with tf.name_scope(\"embedding\"):\n",
    "        embedding_matrix = tf.Variable(initial_value=original_embeddings, trainable=False, name=\"embedding\")\n",
    "        embed = tf.nn.embedding_lookup(embedding_matrix, inputs, name=\"embed\") # 用词向量代替索引\n",
    "        # 相加词向量得到句子向量  \n",
    "        sum_embed = tf.reduce_sum(embed, axis=1, name=\"sum_embed\")\n",
    "        \n",
    "    # model\n",
    "    with tf.name_scope(\"model\"):\n",
    "        W1 = tf.Variable(tf.random_normal(shape=(EMBEDDING_SIZE, HIDDEN_SIZE), stddev=0.1), name=\"W1\") # 正态分布 标准差为0.1\n",
    "        b1 = tf.Variable(tf.zeros(shape=(HIDDEN_SIZE)), name=\"b1\")\n",
    "        \n",
    "#         with tf.name_scope(\"dropout\"):\n",
    "#             W1 = tf.nn.dropout(W1,keep_prob=0.5)\n",
    "        \n",
    "        W2 = tf.Variable(tf.random_normal(shape=(HIDDEN_SIZE, 1), stddev=0.1), name=\"W2\")\n",
    "        b2 = tf.Variable(tf.zeros(shape=(1)), name=\"b2\")\n",
    "        \n",
    "        z1 = tf.add(tf.matmul(sum_embed, W1), b1)\n",
    "        a1 = tf.nn.relu(z1)\n",
    "        \n",
    "        z2 = tf.add(tf.matmul(a1, W2), b2)\n",
    "        outputs = tf.math.sigmoid(z2, name=\"outputs\")\n",
    "        \n",
    "    # loss\n",
    "    with tf.name_scope(\"loss\"):\n",
    "        loss = tf.reduce_mean(tf.nn.sigmoid_cross_entropy_with_logits(labels=targets,logits=outputs))\n",
    "    # optimizer\n",
    "    with tf.name_scope(\"optimizer\"):\n",
    "\n",
    "        optimizer = tf.train.AdamOptimizer(LEARNING_RATE).minimize(loss)\n",
    "        \n",
    "    # evaluation\n",
    "    with tf.name_scope(\"evaluation\"):   \n",
    "\n",
    "        correct_predictions = tf.equal(tf.cast(tf.greater(outputs, 0.5), tf.float32), targets)\n",
    "        accuracy = tf.reduce_sum(tf.reduce_sum(tf.cast(correct_predictions, tf.float32),axis=1))"
   ]
  },
  {
   "cell_type": "markdown",
   "metadata": {},
   "source": [
    "## **训练模型**"
   ]
  },
  {
   "cell_type": "code",
   "execution_count": 20,
   "metadata": {
    "collapsed": true
   },
   "outputs": [],
   "source": [
    "# 存储准确率\n",
    "dnn_train_accuracy = []\n",
    "dnn_test_accuracy = []"
   ]
  },
  {
   "cell_type": "code",
   "execution_count": 21,
   "metadata": {
    "collapsed": true
   },
   "outputs": [],
   "source": [
    "# 创建一个saver，用来保存和回复Variables，即保存模型参数，预测时可以使用这些参数来预测\n",
    "saver = tf.train.Saver()"
   ]
  },
  {
   "cell_type": "code",
   "execution_count": 22,
   "metadata": {},
   "outputs": [
    {
     "name": "stdout",
     "output_type": "stream",
     "text": [
      "Epoch: 1, Train loss:0.7142, Train accuracy: 0.5003, Test accuracy: 0.5101\n",
      "Epoch: 2, Train loss:0.6919, Train accuracy: 0.6609, Test accuracy: 0.6526\n",
      "Epoch: 3, Train loss:0.6539, Train accuracy: 0.7408, Test accuracy: 0.7304\n",
      "Epoch: 4, Train loss:0.6426, Train accuracy: 0.7248, Test accuracy: 0.7112\n",
      "Epoch: 5, Train loss:0.6373, Train accuracy: 0.7307, Test accuracy: 0.7103\n",
      "Epoch: 6, Train loss:0.6362, Train accuracy: 0.7612, Test accuracy: 0.7370\n",
      "Epoch: 7, Train loss:0.6326, Train accuracy: 0.7510, Test accuracy: 0.7196\n",
      "Epoch: 8, Train loss:0.6288, Train accuracy: 0.7543, Test accuracy: 0.7220\n",
      "Epoch: 9, Train loss:0.6272, Train accuracy: 0.7732, Test accuracy: 0.7407\n",
      "Epoch: 10, Train loss:0.6259, Train accuracy: 0.7446, Test accuracy: 0.7084\n",
      "Epoch: 11, Train loss:0.6254, Train accuracy: 0.7630, Test accuracy: 0.7229\n",
      "Epoch: 12, Train loss:0.6245, Train accuracy: 0.7824, Test accuracy: 0.7562\n",
      "Epoch: 13, Train loss:0.6222, Train accuracy: 0.7877, Test accuracy: 0.7379\n",
      "Epoch: 14, Train loss:0.6194, Train accuracy: 0.7972, Test accuracy: 0.7487\n",
      "Epoch: 15, Train loss:0.6174, Train accuracy: 0.8020, Test accuracy: 0.7478\n",
      "Epoch: 16, Train loss:0.6169, Train accuracy: 0.8068, Test accuracy: 0.7501\n",
      "Epoch: 17, Train loss:0.6185, Train accuracy: 0.8087, Test accuracy: 0.7482\n",
      "Epoch: 18, Train loss:0.6154, Train accuracy: 0.7729, Test accuracy: 0.7239\n",
      "Epoch: 19, Train loss:0.6127, Train accuracy: 0.8140, Test accuracy: 0.7459\n",
      "Epoch: 20, Train loss:0.6102, Train accuracy: 0.8183, Test accuracy: 0.7553\n",
      "Epoch: 21, Train loss:0.6092, Train accuracy: 0.8191, Test accuracy: 0.7506\n",
      "Epoch: 22, Train loss:0.6073, Train accuracy: 0.8237, Test accuracy: 0.7496\n",
      "Epoch: 23, Train loss:0.6059, Train accuracy: 0.8255, Test accuracy: 0.7562\n",
      "Epoch: 24, Train loss:0.6041, Train accuracy: 0.8337, Test accuracy: 0.7501\n",
      "Epoch: 25, Train loss:0.6028, Train accuracy: 0.8278, Test accuracy: 0.7515\n",
      "Epoch: 26, Train loss:0.6035, Train accuracy: 0.8390, Test accuracy: 0.7515\n",
      "Epoch: 27, Train loss:0.6000, Train accuracy: 0.8265, Test accuracy: 0.7464\n",
      "Epoch: 28, Train loss:0.5991, Train accuracy: 0.8346, Test accuracy: 0.7459\n",
      "Epoch: 29, Train loss:0.6002, Train accuracy: 0.8454, Test accuracy: 0.7586\n",
      "Epoch: 30, Train loss:0.5975, Train accuracy: 0.7963, Test accuracy: 0.7300\n",
      "Epoch: 31, Train loss:0.5977, Train accuracy: 0.8424, Test accuracy: 0.7506\n",
      "Epoch: 32, Train loss:0.5943, Train accuracy: 0.8434, Test accuracy: 0.7511\n",
      "Epoch: 33, Train loss:0.5931, Train accuracy: 0.8577, Test accuracy: 0.7562\n",
      "Epoch: 34, Train loss:0.5912, Train accuracy: 0.8572, Test accuracy: 0.7553\n",
      "Epoch: 35, Train loss:0.5904, Train accuracy: 0.8531, Test accuracy: 0.7459\n",
      "Epoch: 36, Train loss:0.5908, Train accuracy: 0.8531, Test accuracy: 0.7482\n",
      "Epoch: 37, Train loss:0.5885, Train accuracy: 0.8534, Test accuracy: 0.7478\n",
      "Epoch: 38, Train loss:0.5887, Train accuracy: 0.8614, Test accuracy: 0.7496\n",
      "Epoch: 39, Train loss:0.5865, Train accuracy: 0.8688, Test accuracy: 0.7571\n",
      "Epoch: 40, Train loss:0.5856, Train accuracy: 0.8702, Test accuracy: 0.7529\n",
      "Epoch: 41, Train loss:0.5864, Train accuracy: 0.8636, Test accuracy: 0.7501\n",
      "Epoch: 42, Train loss:0.5846, Train accuracy: 0.8720, Test accuracy: 0.7557\n",
      "Epoch: 43, Train loss:0.5834, Train accuracy: 0.8676, Test accuracy: 0.7539\n",
      "Epoch: 44, Train loss:0.5828, Train accuracy: 0.8696, Test accuracy: 0.7529\n",
      "Epoch: 45, Train loss:0.5818, Train accuracy: 0.8767, Test accuracy: 0.7543\n",
      "Epoch: 46, Train loss:0.5810, Train accuracy: 0.8744, Test accuracy: 0.7553\n",
      "Epoch: 47, Train loss:0.5802, Train accuracy: 0.8809, Test accuracy: 0.7590\n",
      "Epoch: 48, Train loss:0.5795, Train accuracy: 0.8813, Test accuracy: 0.7520\n",
      "Epoch: 49, Train loss:0.5804, Train accuracy: 0.8817, Test accuracy: 0.7590\n",
      "Epoch: 50, Train loss:0.5787, Train accuracy: 0.8842, Test accuracy: 0.7600\n"
     ]
    }
   ],
   "source": [
    "config = tf.ConfigProto(allow_soft_placement=True, \n",
    "                        log_device_placement=True)\n",
    "config.gpu_options.allow_growth=True\n",
    "\n",
    "with tf.Session(config=config) as sess:\n",
    "    sess.run(tf.global_variables_initializer())\n",
    "    \n",
    "    # 创见一个summary writer，把graph添加到logdir下的event file中\n",
    "    writer = tf.summary.FileWriter(\"./graphs/dnn\", tf.get_default_graph())\n",
    "    \n",
    "    batch_num = int(x_train.shape[0] / BATCH_SIZE)\n",
    "    \n",
    "    for epoch in range(EPOCHES):\n",
    "        total_loss = 0\n",
    "        \n",
    "        for x_batch, y_batch in get_batch(x_train, y_train):\n",
    "            \n",
    "            batch_loss = sess.run(loss, feed_dict={inputs:x_batch,targets:y_batch})\n",
    "            sess.run(optimizer, feed_dict={inputs:x_batch,targets:y_batch})\n",
    "            total_loss += batch_loss\n",
    "            \n",
    "        # train准确率\n",
    "        train_correct = sess.run(accuracy, feed_dict={inputs:x_train,targets:y_train})\n",
    "        train_accuracy = train_correct / x_train.shape[0]\n",
    "        dnn_train_accuracy.append(train_accuracy)\n",
    "        \n",
    "        test_correct = sess.run(accuracy, feed_dict={inputs:x_test,targets:y_test})\n",
    "        test_accuracy = test_correct / x_test.shape[0]\n",
    "\n",
    "        dnn_test_accuracy.append(test_accuracy)\n",
    "\n",
    "        print(\"Epoch: {}, Train loss:{:.4f}, Train accuracy: {:.4f}, Test accuracy: {:.4f}\".format(epoch + 1,\n",
    "                                                                                       total_loss/batch_num, \n",
    "                                                                                       train_accuracy, \n",
    "                                                                                       test_accuracy))\n",
    "    # 训练完毕，存储模型参数\n",
    "    saver.save(sess, \"./checkpoints/dnn\")\n",
    "    writer.close()"
   ]
  },
  {
   "cell_type": "code",
   "execution_count": 25,
   "metadata": {},
   "outputs": [
    {
     "data": {
      "image/png": "[encoded data removed]",
      "text/plain": [
       "<matplotlib.figure.Figure at 0x1f884330a90>"
      ]
     },
     "metadata": {},
     "output_type": "display_data"
    }
   ],
   "source": [
    "import matplotlib.pyplot as plt\n",
    "plt.plot(dnn_train_accuracy)\n",
    "plt.plot(dnn_test_accuracy)\n",
    "plt.ylim(ymin=0.5, ymax=1.01)\n",
    "plt.title(\"The accuracy of DNN model\")\n",
    "plt.legend([\"train\", \"test\"])\n",
    "plt.show()"
   ]
  },
  {
   "cell_type": "code",
   "execution_count": 26,
   "metadata": {},
   "outputs": [
    {
     "name": "stdout",
     "output_type": "stream",
     "text": [
      "INFO:tensorflow:Restoring parameters from checkpoints/dnn\n",
      "The DNN model accuracy on test set: 76.00%\n"
     ]
    }
   ],
   "source": [
    "# 在test上的准确率\n",
    "with tf.Session() as sess:\n",
    "    saver.restore(sess, \"checkpoints/dnn\")\n",
    "    \n",
    "    total_correct = 0\n",
    "    acc = sess.run(accuracy,\n",
    "                    feed_dict={inputs: x_test, \n",
    "                                targets: y_test})\n",
    "    total_correct += acc\n",
    "    print(\"The DNN model accuracy on test set: {:.2f}%\".format(100* total_correct / x_test.shape[0]))"
   ]
  },
  {
   "cell_type": "code",
   "execution_count": null,
   "metadata": {
    "collapsed": true
   },
   "outputs": [],
   "source": []
  },
  {
   "cell_type": "code",
   "execution_count": 55,
   "metadata": {
    "collapsed": true
   },
   "outputs": [],
   "source": []
  },
  {
   "cell_type": "code",
   "execution_count": null,
   "metadata": {
    "collapsed": true
   },
   "outputs": [],
   "source": []
  }
 ],
 "metadata": {
  "kernelspec": {
   "display_name": "Python 3",
   "language": "python",
   "name": "python3"
  },
  "language_info": {
   "codemirror_mode": {
    "name": "ipython",
    "version": 3
   },
   "file_extension": ".py",
   "mimetype": "text/x-python",
   "name": "python",
   "nbconvert_exporter": "python",
   "pygments_lexer": "ipython3",
   "version": "3.6.3"
  }
 },
 "nbformat": 4,
 "nbformat_minor": 2
}
