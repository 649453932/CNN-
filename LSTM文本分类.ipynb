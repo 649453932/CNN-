{
 "cells": [
  {
   "cell_type": "code",
   "execution_count": 1,
   "metadata": {},
   "outputs": [
    {
     "name": "stderr",
     "output_type": "stream",
     "text": [
      "D:\\Anaconda\\lib\\site-packages\\h5py\\__init__.py:34: FutureWarning: Conversion of the second argument of issubdtype from `float` to `np.floating` is deprecated. In future, it will be treated as `np.float64 == np.dtype(float).type`.\n",
      "  from ._conv import register_converters as _register_converters\n"
     ]
    }
   ],
   "source": [
    "import numpy as np\n",
    "import tensorflow as tf\n",
    "import re\n",
    "import tqdm"
   ]
  },
  {
   "cell_type": "code",
   "execution_count": 2,
   "metadata": {
    "collapsed": true
   },
   "outputs": [],
   "source": [
    "# 替换一些字符，所有字母变为小写\n",
    "def clean_str(string):\n",
    "    \"\"\"\n",
    "    Tokenization/string cleaning for all datasets except for SST.\n",
    "    Original taken from https://github.com/yoonkim/CNN_sentence/blob/master/process_data.py\n",
    "    \"\"\"\n",
    "    string = re.sub(r\"[^A-Za-z0-9(),!?\\'\\`]\", \" \", string)\n",
    "    string = re.sub(r\"\\'s\", \" \\'s\", string)\n",
    "    string = re.sub(r\"\\'ve\", \" \\'ve\", string)\n",
    "    string = re.sub(r\"n\\'t\", \" n\\'t\", string)\n",
    "    string = re.sub(r\"\\'re\", \" \\'re\", string)\n",
    "    string = re.sub(r\"\\'d\", \" \\'d\", string)\n",
    "    string = re.sub(r\"\\'ll\", \" \\'ll\", string)\n",
    "    string = re.sub(r\",\", \" , \", string)\n",
    "    string = re.sub(r\"!\", \" ! \", string)\n",
    "    string = re.sub(r\"\\(\", \" \\( \", string)\n",
    "    string = re.sub(r\"\\)\", \" \\) \", string)\n",
    "    string = re.sub(r\"\\?\", \" \\? \", string)\n",
    "    string = re.sub(r\"\\s{2,}\", \" \", string)\n",
    "    return string.strip().lower()"
   ]
  },
  {
   "cell_type": "code",
   "execution_count": 3,
   "metadata": {
    "collapsed": true
   },
   "outputs": [],
   "source": [
    "# 加载数据，并对数据做处理\n",
    "def load_data(pos_data, neg_data):\n",
    "    # 读入样本，将样本放入list中\n",
    "    pos = list(open(pos_data, \"r\", encoding='utf-8').readlines())\n",
    "    # strip()移除字符串头尾指定的字符（默认为空格或换行符）或字符序列\n",
    "    pos = [s.strip() for s in pos]\n",
    "    \n",
    "    neg = list(open(neg_data, \"r\", encoding='utf-8').readlines())\n",
    "    neg = [s.strip() for s in neg]\n",
    "\n",
    "    x = pos + neg\n",
    "    x = [clean_str(_) for _ in x]\n",
    "    x = np.array(x)\n",
    "    \n",
    "    pos_label = [[0] for _ in pos]\n",
    "    neg_label = [[1] for _ in neg]\n",
    "    \n",
    "    y = np.concatenate([pos_label, neg_label], axis=0) # axis=0 按行拼接\n",
    "    y = np.array(y)\n",
    "    # y = tf.concat(0, [pos_label, neg_label]) 也可以这样写 与上一行作用相同\n",
    "    return [x, y]"
   ]
  },
  {
   "cell_type": "code",
   "execution_count": 4,
   "metadata": {},
   "outputs": [
    {
     "name": "stdout",
     "output_type": "stream",
     "text": [
      "加载数据ing...\n",
      "评价平均长度: 20.38585631213656\n",
      "最长的评价长度：56\n",
      "最短的评价长度：1\n",
      "(10662,)\n",
      "(10662, 1)\n"
     ]
    }
   ],
   "source": [
    "print(\"加载数据ing...\")\n",
    "x, y = load_data(\"data/pos.txt\", \"data/neg.txt\")\n",
    "\n",
    "# 查看数据\n",
    "print(\"评价平均长度: {}\".format(np.mean([len(sentence.split()) for sentence in x])))\n",
    "max_document_length = max([len(_.split(\" \")) for _ in x]) # 找到最长的句子\n",
    "print(\"最长的评价长度：{}\".format(max_document_length))\n",
    "min_document_length = min([len(_.split(\" \")) for _ in x]) # 找到最长的句子\n",
    "print(\"最短的评价长度：{}\".format(min_document_length))\n",
    "\n",
    "print(x.shape)\n",
    "print(y.shape)"
   ]
  },
  {
   "cell_type": "code",
   "execution_count": 5,
   "metadata": {
    "collapsed": true
   },
   "outputs": [],
   "source": [
    "# 设置评价最大长度\n",
    "TEXT_MAX_SIZE = 30"
   ]
  },
  {
   "cell_type": "code",
   "execution_count": 6,
   "metadata": {
    "collapsed": true
   },
   "outputs": [],
   "source": [
    "# 建立词典 key为单词 value为出现次数\n",
    "voc_dic = {}\n",
    "for sentence in x:\n",
    "    words = sentence.split()\n",
    "    for word in words:\n",
    "        if word in voc_dic:\n",
    "            voc_dic[word] += 1\n",
    "        else:\n",
    "            voc_dic[word] = 1"
   ]
  },
  {
   "cell_type": "code",
   "execution_count": 7,
   "metadata": {},
   "outputs": [
    {
     "name": "stdout",
     "output_type": "stream",
     "text": [
      "词典长度：10112\n"
     ]
    }
   ],
   "source": [
    "# 构建词表\n",
    "vocab = [\"<pad>\", \"<unk>\"]\n",
    "\n",
    "# 词频大于1的才加入词表\n",
    "for k, v in voc_dic.items():\n",
    "    if v > 1:\n",
    "        vocab.append(k)\n",
    "\n",
    "print('词典长度：{}'.format(len(vocab)))"
   ]
  },
  {
   "cell_type": "code",
   "execution_count": 8,
   "metadata": {
    "collapsed": true
   },
   "outputs": [],
   "source": [
    "# 构建单词到索引的映射(每个数字代表一个单词或一个符号)\n",
    "word_to_index = {word: index for index, word in enumerate(vocab)}\n",
    "\n",
    "# 索引到单词的映射：\n",
    "index_to_word = {index: word for index, word in enumerate(vocab)}"
   ]
  },
  {
   "cell_type": "code",
   "execution_count": 9,
   "metadata": {
    "collapsed": true
   },
   "outputs": [],
   "source": [
    "# 定义一个将句子中每个word转换为index的函数：\n",
    "def sentence_to_index(sentence, max_size=TEXT_MAX_SIZE, word_map=word_to_index):\n",
    "    # unknown和pad的index\n",
    "    unk_id = word_map[\"<unk>\"]\n",
    "    pad_id = word_map[\"<pad>\"]\n",
    "    \n",
    "    # 转换\n",
    "    sentence_index = [word_map.get(word, unk_id) for word in sentence.lower().split()]\n",
    "    \n",
    "    # 长度小于给定长度时，填充；长度大于给定长度时，截断。\n",
    "    if len(sentence_index) < max_size:\n",
    "        sentence_index.extend([0] * (max_size - len(sentence_index)))\n",
    "    else:\n",
    "        sentence_index = sentence_index[:max_size]\n",
    "    \n",
    "    return sentence_index"
   ]
  },
  {
   "cell_type": "code",
   "execution_count": 10,
   "metadata": {},
   "outputs": [
    {
     "name": "stdout",
     "output_type": "stream",
     "text": [
      "[328, 65, 144, 311, 1037, 180, 1, 1, 1, 1, 1, 0, 0, 0, 0, 0, 0, 0, 0, 0, 0, 0, 0, 0, 0, 0, 0, 0, 0, 0]\n"
     ]
    }
   ],
   "source": [
    "s = \"I like this move very much ！ 。 / ， 。\"\n",
    "a = sentence_to_index(s)\n",
    "print(a)"
   ]
  },
  {
   "cell_type": "code",
   "execution_count": 11,
   "metadata": {},
   "outputs": [
    {
     "data": {
      "text/plain": [
       "(10662, 30)"
      ]
     },
     "execution_count": 11,
     "metadata": {},
     "output_type": "execute_result"
    }
   ],
   "source": [
    "# 所有训练样本 转化为索引格式\n",
    "x_index = []\n",
    "for _ in x:\n",
    "    single_index = sentence_to_index(_)\n",
    "    x_index.append(single_index)\n",
    "x_index = np.array(x_index)\n",
    "x_index.shape"
   ]
  },
  {
   "cell_type": "code",
   "execution_count": 12,
   "metadata": {},
   "outputs": [
    {
     "name": "stderr",
     "output_type": "stream",
     "text": [
      "400000it [00:40, 9790.64it/s] \n"
     ]
    }
   ],
   "source": [
    "with open(\"data/glove.6B.300d.txt\", \"r\", encoding = \"utf-8\") as f:\n",
    "    word_to_vec = {}\n",
    "    i = 0\n",
    "    for line in tqdm.tqdm(f):\n",
    "        line = line.split()\n",
    "        word_to_vec[line[0]] = np.array(line[1:], dtype=np.float32)"
   ]
  },
  {
   "cell_type": "code",
   "execution_count": 13,
   "metadata": {},
   "outputs": [
    {
     "data": {
      "text/plain": [
       "10112"
      ]
     },
     "execution_count": 13,
     "metadata": {},
     "output_type": "execute_result"
    }
   ],
   "source": [
    "# 词表大小、embedding深度\n",
    "VOCAB_SIZE = len(vocab)\n",
    "EMBEDDING_SIZE = 300\n",
    "VOCAB_SIZE"
   ]
  },
  {
   "cell_type": "code",
   "execution_count": 14,
   "metadata": {
    "collapsed": true
   },
   "outputs": [],
   "source": [
    "# 初始化词向量矩阵，尺寸为 词表大小×embedding深度\n",
    "original_embeddings = np.zeros([VOCAB_SIZE, EMBEDDING_SIZE])\n",
    "\n",
    "for word, index in word_to_index.items():\n",
    "    # 用glove词向量填充矩阵，如果glove中没有该词，则随机给个数\n",
    "    word_vec = word_to_vec.get(word, np.random.randn(EMBEDDING_SIZE) * np.sqrt(2/EMBEDDING_SIZE))\n",
    "    # 词向量矩阵中行号就是词的index值，每个词用300个数表示\n",
    "    original_embeddings[index, :] = word_vec\n",
    "\n",
    "# 将pad的300个数全设为0\n",
    "original_embeddings[word_to_index[\"<pad>\"], :] = 0\n",
    "\n",
    "original_embeddings = original_embeddings.astype(np.float32)"
   ]
  },
  {
   "cell_type": "code",
   "execution_count": 15,
   "metadata": {
    "collapsed": true
   },
   "outputs": [],
   "source": [
    "# 分出训练集和测试集\n",
    "def generate_train_test(x, y, train_ratio=0.8, shuffle=True):\n",
    "    \n",
    "    assert x.shape[0] == y.shape[0], print(\"error shape!\")\n",
    "    \n",
    "    if shuffle:\n",
    "        # permutation函数：打乱顺序\n",
    "        shuffle_indices = np.random.permutation(range(x.shape[0]))\n",
    "        x = x[shuffle_indices]\n",
    "        y = y[shuffle_indices]\n",
    "        \n",
    "    # 从样本中分出训练集和测试集\n",
    "    train_size = int(x.shape[0] * train_ratio)\n",
    "    x_train = x[:train_size]\n",
    "    y_train = y[:train_size]\n",
    "    x_test = x[train_size:]\n",
    "    y_test = y[train_size:]\n",
    "    \n",
    "    return x_train, y_train, x_test, y_test"
   ]
  },
  {
   "cell_type": "code",
   "execution_count": 16,
   "metadata": {},
   "outputs": [
    {
     "name": "stdout",
     "output_type": "stream",
     "text": [
      "(8529, 30)\n",
      "(8529, 1)\n",
      "(2133, 30)\n",
      "(2133, 1)\n"
     ]
    }
   ],
   "source": [
    "x_train, y_train, x_test, y_test = generate_train_test(np.array(x_index), np.array(y))\n",
    "print(x_train.shape)\n",
    "print(y_train.shape)\n",
    "print(x_test.shape)\n",
    "print(y_test.shape)"
   ]
  },
  {
   "cell_type": "code",
   "execution_count": 17,
   "metadata": {
    "collapsed": true
   },
   "outputs": [],
   "source": [
    "# 重置默认图\n",
    "tf.reset_default_graph()\n",
    "\n",
    "# 定义超参数\n",
    "HIDDEN_SIZE = 512\n",
    "LEARNING_RATE = 0.001\n",
    "KEEP_PROB = 0.5\n",
    "EPOCHES = 50\n",
    "BATCH_SIZE = 256"
   ]
  },
  {
   "cell_type": "code",
   "execution_count": 18,
   "metadata": {
    "collapsed": true
   },
   "outputs": [],
   "source": [
    "# 分出mini_batch\n",
    "def get_batch(x, y, batch_size=BATCH_SIZE, shuffle=True):\n",
    "    \n",
    "    assert x.shape[0] ==y.shape[0], print(\"error shape!\")\n",
    "    \n",
    "    batches = []\n",
    "    \n",
    "    # 打乱顺序\n",
    "    if shuffle:\n",
    "        shuffle_indices = np.random.permutation(range(x.shape[0]))\n",
    "        x = x[shuffle_indices]\n",
    "        y = y[shuffle_indices]\n",
    "    \n",
    "    # batch数目（整数），如果剩下的样本不够一个batch，那在下面处理剩下的一部分\n",
    "    batch_complete_num = int(x.shape[0] / batch_size)\n",
    "    \n",
    "    # 整数部分\n",
    "    for k in range(batch_complete_num):\n",
    "        batch_x = x[k*batch_size : (k+1)*batch_size, :] # 从k*batch_size到(k+1)*batch_size行,:代表所有列，\n",
    "        batch_y = y[k*batch_size : (k+1)*batch_size, :]\n",
    "        batch = (batch_x, batch_y)\n",
    "        batches.append(batch)\n",
    "    # 剩余部分\n",
    "    if x.shape[0] % batch_size != 0:\n",
    "        batch_x = x[batch_complete_num*batch_size : x.shape[0]]\n",
    "        batch_y = y[batch_complete_num*batch_size : y.shape[0]]\n",
    "        batch = (batch_x, batch_y)\n",
    "        batches.append(batch)\n",
    "    return batches"
   ]
  },
  {
   "cell_type": "code",
   "execution_count": 19,
   "metadata": {
    "collapsed": true
   },
   "outputs": [],
   "source": [
    "with tf.name_scope(\"rnn\"):\n",
    "    # placeholders\n",
    "    with tf.name_scope(\"placeholders\"):\n",
    "        inputs = tf.placeholder(dtype=tf.int32, shape=(None, 30), name=\"inputs\")\n",
    "        targets = tf.placeholder(dtype=tf.float32, shape=(None, 1), name=\"targets\")\n",
    "    \n",
    "    # embeddings\n",
    "    with tf.name_scope(\"embeddings\"):\n",
    "        embedding_matrix = tf.Variable(initial_value=original_embeddings, trainable=False, name=\"embedding_matrix\")\n",
    "        embed = tf.nn.embedding_lookup(embedding_matrix, inputs, name=\"embed\")\n",
    "    \n",
    "    # model\n",
    "    with tf.name_scope(\"mode\"):\n",
    "        # 构造lstm单元\n",
    "        lstm11 = tf.contrib.rnn.LSTMCell(HIDDEN_SIZE, initializer=tf.random_uniform_initializer(-0.1, 0.1, seed=123))\n",
    "        # 添加dropout\n",
    "        drop_lstm11 = tf.contrib.rnn.DropoutWrapper(lstm11, output_keep_prob=KEEP_PROB)\n",
    "        _, lstm_state11 = tf.nn.dynamic_rnn(drop_lstm11, embed, dtype=tf.float32)\n",
    "        \n",
    "        # 输出层权重\n",
    "        W = tf.Variable(tf.truncated_normal((HIDDEN_SIZE, 1), mean=0.0, stddev=0.1), name=\"W\")\n",
    "        b = tf.Variable(tf.zeros(1), name=\"b\")\n",
    "        \n",
    "        logits = tf.add(tf.matmul(lstm_state11.h, W), b)\n",
    "        outputs = tf.nn.sigmoid(logits, name=\"outputs\")\n",
    "        \n",
    "        loss = tf.reduce_mean(tf.nn.sigmoid_cross_entropy_with_logits(labels=targets, logits=logits))\n",
    "    \n",
    "    # optimizer\n",
    "    with tf.name_scope(\"optimizer\"):\n",
    "        optimizer = tf.train.AdamOptimizer(LEARNING_RATE).minimize(loss)\n",
    "    \n",
    "    # evaluation\n",
    "    with tf.name_scope(\"evaluation\"):\n",
    "        correct_preds = tf.equal(tf.cast(tf.greater(outputs, 0.5), tf.float32), targets)\n",
    "        accuracy = tf.reduce_sum(tf.reduce_sum(tf.cast(correct_preds, tf.float32), axis=1))"
   ]
  },
  {
   "cell_type": "code",
   "execution_count": 20,
   "metadata": {
    "collapsed": true
   },
   "outputs": [],
   "source": [
    "# 存储准确率\n",
    "rnn_train_accuracy = []\n",
    "rnn_test_accuracy = []"
   ]
  },
  {
   "cell_type": "code",
   "execution_count": 21,
   "metadata": {
    "collapsed": true
   },
   "outputs": [],
   "source": [
    "saver = tf.train.Saver()"
   ]
  },
  {
   "cell_type": "code",
   "execution_count": 22,
   "metadata": {},
   "outputs": [
    {
     "name": "stdout",
     "output_type": "stream",
     "text": [
      "Training epoch: 1, Train loss: 0.6892, Train accuracy: 0.7142, Test accuracy: 0.7107\n",
      "Training epoch: 2, Train loss: 0.5255, Train accuracy: 0.7830, Test accuracy: 0.7675\n",
      "Training epoch: 3, Train loss: 0.4839, Train accuracy: 0.7847, Test accuracy: 0.7464\n",
      "Training epoch: 4, Train loss: 0.4391, Train accuracy: 0.8102, Test accuracy: 0.7675\n",
      "Training epoch: 5, Train loss: 0.3986, Train accuracy: 0.8488, Test accuracy: 0.7642\n",
      "Training epoch: 6, Train loss: 0.3608, Train accuracy: 0.8695, Test accuracy: 0.7675\n",
      "Training epoch: 7, Train loss: 0.3262, Train accuracy: 0.9084, Test accuracy: 0.7806\n",
      "Training epoch: 8, Train loss: 0.2975, Train accuracy: 0.9166, Test accuracy: 0.7764\n",
      "Training epoch: 9, Train loss: 0.2163, Train accuracy: 0.9263, Test accuracy: 0.7473\n",
      "Training epoch: 10, Train loss: 0.1941, Train accuracy: 0.9373, Test accuracy: 0.7576\n",
      "Training epoch: 11, Train loss: 0.1738, Train accuracy: 0.9436, Test accuracy: 0.7665\n",
      "Training epoch: 12, Train loss: 0.1409, Train accuracy: 0.9733, Test accuracy: 0.7571\n",
      "Training epoch: 13, Train loss: 0.1007, Train accuracy: 0.9822, Test accuracy: 0.7600\n",
      "Training epoch: 14, Train loss: 0.0705, Train accuracy: 0.9834, Test accuracy: 0.7623\n",
      "Training epoch: 15, Train loss: 0.0741, Train accuracy: 0.9851, Test accuracy: 0.7703\n",
      "Training epoch: 16, Train loss: 0.0576, Train accuracy: 0.9927, Test accuracy: 0.7590\n",
      "Training epoch: 17, Train loss: 0.0330, Train accuracy: 0.9884, Test accuracy: 0.7637\n",
      "Training epoch: 18, Train loss: 0.0466, Train accuracy: 0.9910, Test accuracy: 0.7665\n",
      "Training epoch: 19, Train loss: 0.0738, Train accuracy: 0.9919, Test accuracy: 0.7670\n",
      "Training epoch: 20, Train loss: 0.0329, Train accuracy: 0.9926, Test accuracy: 0.7595\n",
      "Training epoch: 21, Train loss: 0.0178, Train accuracy: 0.9989, Test accuracy: 0.7665\n",
      "Training epoch: 22, Train loss: 0.0165, Train accuracy: 0.9957, Test accuracy: 0.7515\n",
      "Training epoch: 23, Train loss: 0.0313, Train accuracy: 0.9946, Test accuracy: 0.7525\n",
      "Training epoch: 24, Train loss: 0.0152, Train accuracy: 0.9996, Test accuracy: 0.7562\n",
      "Training epoch: 25, Train loss: 0.0364, Train accuracy: 0.9873, Test accuracy: 0.7539\n",
      "Training epoch: 26, Train loss: 0.0622, Train accuracy: 0.9872, Test accuracy: 0.7600\n",
      "Training epoch: 27, Train loss: 0.0245, Train accuracy: 0.9986, Test accuracy: 0.7623\n",
      "Training epoch: 28, Train loss: 0.0261, Train accuracy: 0.9916, Test accuracy: 0.7501\n",
      "Training epoch: 29, Train loss: 0.0362, Train accuracy: 0.9934, Test accuracy: 0.7534\n",
      "Training epoch: 30, Train loss: 0.0254, Train accuracy: 0.9962, Test accuracy: 0.7557\n",
      "Training epoch: 31, Train loss: 0.0211, Train accuracy: 0.9991, Test accuracy: 0.7637\n",
      "Training epoch: 32, Train loss: 0.0109, Train accuracy: 0.9970, Test accuracy: 0.7623\n",
      "Training epoch: 33, Train loss: 0.0154, Train accuracy: 0.9945, Test accuracy: 0.7614\n",
      "Training epoch: 34, Train loss: 0.0170, Train accuracy: 0.9932, Test accuracy: 0.7492\n",
      "Training epoch: 35, Train loss: 0.0120, Train accuracy: 0.9986, Test accuracy: 0.7726\n",
      "Training epoch: 36, Train loss: 0.0114, Train accuracy: 0.9992, Test accuracy: 0.7670\n",
      "Training epoch: 37, Train loss: 0.0129, Train accuracy: 0.9892, Test accuracy: 0.7525\n",
      "Training epoch: 38, Train loss: 0.0154, Train accuracy: 0.9984, Test accuracy: 0.7689\n",
      "Training epoch: 39, Train loss: 0.0207, Train accuracy: 0.9984, Test accuracy: 0.7656\n",
      "Training epoch: 40, Train loss: 0.0074, Train accuracy: 0.9991, Test accuracy: 0.7628\n",
      "Training epoch: 41, Train loss: 0.0131, Train accuracy: 0.9932, Test accuracy: 0.7501\n",
      "Training epoch: 42, Train loss: 0.0104, Train accuracy: 0.9962, Test accuracy: 0.7722\n",
      "Training epoch: 43, Train loss: 0.0170, Train accuracy: 0.9984, Test accuracy: 0.7647\n",
      "Training epoch: 44, Train loss: 0.0117, Train accuracy: 0.9977, Test accuracy: 0.7515\n",
      "Training epoch: 45, Train loss: 0.0081, Train accuracy: 0.9988, Test accuracy: 0.7689\n",
      "Training epoch: 46, Train loss: 0.0378, Train accuracy: 0.9926, Test accuracy: 0.7628\n",
      "Training epoch: 47, Train loss: 0.0308, Train accuracy: 0.9978, Test accuracy: 0.7712\n",
      "Training epoch: 48, Train loss: 0.0165, Train accuracy: 0.9981, Test accuracy: 0.7567\n",
      "Training epoch: 49, Train loss: 0.0152, Train accuracy: 0.9977, Test accuracy: 0.7703\n",
      "Training epoch: 50, Train loss: 0.0234, Train accuracy: 0.9945, Test accuracy: 0.7459\n"
     ]
    }
   ],
   "source": [
    "config = tf.ConfigProto(allow_soft_placement=True, \n",
    "                        log_device_placement=True)\n",
    "config.gpu_options.allow_growth=True\n",
    "\n",
    "with tf.Session(config=config) as sess:\n",
    "    sess.run(tf.global_variables_initializer())\n",
    "    \n",
    "    writer = tf.summary.FileWriter(\"./graphs/rnn\", tf.get_default_graph())\n",
    "    n_batches = int(x_train.shape[0] / BATCH_SIZE)\n",
    "    \n",
    "    for epoch in range(EPOCHES):\n",
    "        total_loss = 0\n",
    "        for x_batch, y_batch in get_batch(x_train, y_train):\n",
    "            _, l = sess.run([optimizer, loss],\n",
    "                            feed_dict={inputs: x_batch, \n",
    "                                       targets: y_batch})\n",
    "            total_loss += l\n",
    "        \n",
    "        train_corrects = sess.run(accuracy, feed_dict={inputs: x_train, targets: y_train})\n",
    "        train_acc = train_corrects / x_train.shape[0]\n",
    "        rnn_train_accuracy.append(train_acc)\n",
    "\n",
    "        test_corrects = sess.run(accuracy, feed_dict={inputs: x_test, targets: y_test})\n",
    "        test_acc = test_corrects / x_test.shape[0]\n",
    "        rnn_test_accuracy.append(test_acc)\n",
    "\n",
    "        \n",
    "        print(\"Training epoch: {}, Train loss: {:.4f}, Train accuracy: {:.4f}, Test accuracy: {:.4f}\".format(epoch + 1, \n",
    "                                                                                                             total_loss / n_batches,\n",
    "                                                                                                             train_acc,\n",
    "                                                                                                             test_acc))\n",
    "    \n",
    "    saver.save(sess, \"checkpoints/rnn\")\n",
    "    writer.close()"
   ]
  },
  {
   "cell_type": "code",
   "execution_count": 25,
   "metadata": {},
   "outputs": [
    {
     "data": {
      "image/png": "[encoded data removed]",
      "text/plain": [
       "<matplotlib.figure.Figure at 0x1866b011668>"
      ]
     },
     "metadata": {},
     "output_type": "display_data"
    }
   ],
   "source": [
    "import matplotlib.pyplot as plt\n",
    "plt.plot(rnn_train_accuracy)\n",
    "plt.plot(rnn_test_accuracy)\n",
    "plt.ylim(ymin=0.5, ymax=1.01)\n",
    "plt.title(\"The accuracy of LSTM model\")\n",
    "plt.legend([\"train\", \"test\"])\n",
    "plt.show()"
   ]
  },
  {
   "cell_type": "code",
   "execution_count": 26,
   "metadata": {},
   "outputs": [
    {
     "name": "stdout",
     "output_type": "stream",
     "text": [
      "INFO:tensorflow:Restoring parameters from checkpoints/rnn\n",
      "The LSTM model accuracy on test set: 74.59%\n"
     ]
    }
   ],
   "source": [
    "# 在test上的准确率\n",
    "with tf.Session() as sess:\n",
    "    saver.restore(sess, \"checkpoints/rnn\")\n",
    "    \n",
    "    total_correct = sess.run(accuracy,\n",
    "                             feed_dict={inputs: x_test, targets: y_test})\n",
    "\n",
    "    print(\"The LSTM model accuracy on test set: {:.2f}%\".format(100* total_correct / x_test.shape[0]))"
   ]
  },
  {
   "cell_type": "code",
   "execution_count": null,
   "metadata": {
    "collapsed": true
   },
   "outputs": [],
   "source": []
  },
  {
   "cell_type": "code",
   "execution_count": null,
   "metadata": {
    "collapsed": true
   },
   "outputs": [],
   "source": []
  },
  {
   "cell_type": "code",
   "execution_count": null,
   "metadata": {
    "collapsed": true
   },
   "outputs": [],
   "source": []
  }
 ],
 "metadata": {
  "kernelspec": {
   "display_name": "Python 3",
   "language": "python",
   "name": "python3"
  },
  "language_info": {
   "codemirror_mode": {
    "name": "ipython",
    "version": 3
   },
   "file_extension": ".py",
   "mimetype": "text/x-python",
   "name": "python",
   "nbconvert_exporter": "python",
   "pygments_lexer": "ipython3",
   "version": "3.6.3"
  }
 },
 "nbformat": 4,
 "nbformat_minor": 2
}
